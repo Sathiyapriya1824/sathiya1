{
 "cells": [
  {
   "cell_type": "code",
   "execution_count": 2,
   "id": "2be19938",
   "metadata": {},
   "outputs": [],
   "source": [
    "s=\"this is My First Python programming class and i am learNING python string and its function\""
   ]
  },
  {
   "cell_type": "code",
   "execution_count": 3,
   "id": "e8c3add8",
   "metadata": {},
   "outputs": [
    {
     "data": {
      "text/plain": [
       "'h   r tnrrmglsnimeNGyosi dtfco'"
      ]
     },
     "execution_count": 3,
     "metadata": {},
     "output_type": "execute_result"
    }
   ],
   "source": [
    "s[1:300:3]"
   ]
  },
  {
   "cell_type": "code",
   "execution_count": 4,
   "id": "d31aef48",
   "metadata": {},
   "outputs": [
    {
     "data": {
      "text/plain": [
       "'noitcnuf sti dna gnirts nohtyp GNINrael ma i dna ssalc gnimmargorp nohtyP tsriF yM si siht'"
      ]
     },
     "execution_count": 4,
     "metadata": {},
     "output_type": "execute_result"
    }
   ],
   "source": [
    "s[::-1]"
   ]
  },
  {
   "cell_type": "code",
   "execution_count": 7,
   "id": "9bd8e54a",
   "metadata": {},
   "outputs": [],
   "source": [
    "s1=s.upper()"
   ]
  },
  {
   "cell_type": "code",
   "execution_count": 8,
   "id": "442df857",
   "metadata": {},
   "outputs": [
    {
     "data": {
      "text/plain": [
       "['THIS',\n",
       " 'IS',\n",
       " 'MY',\n",
       " 'FIRST',\n",
       " 'PYTHON',\n",
       " 'PROGRAMMING',\n",
       " 'CLASS',\n",
       " 'AND',\n",
       " 'I',\n",
       " 'AM',\n",
       " 'LEARNING',\n",
       " 'PYTHON',\n",
       " 'STRING',\n",
       " 'AND',\n",
       " 'ITS',\n",
       " 'FUNCTION']"
      ]
     },
     "execution_count": 8,
     "metadata": {},
     "output_type": "execute_result"
    }
   ],
   "source": [
    "s1.split()"
   ]
  },
  {
   "cell_type": "code",
   "execution_count": 9,
   "id": "dc873916",
   "metadata": {},
   "outputs": [
    {
     "data": {
      "text/plain": [
       "'this is my first python programming class and i am learning python string and its function'"
      ]
     },
     "execution_count": 9,
     "metadata": {},
     "output_type": "execute_result"
    }
   ],
   "source": [
    "s.lower()"
   ]
  },
  {
   "cell_type": "code",
   "execution_count": 10,
   "id": "165376bf",
   "metadata": {},
   "outputs": [
    {
     "data": {
      "text/plain": [
       "'This is my first python programming class and i am learning python string and its function'"
      ]
     },
     "execution_count": 10,
     "metadata": {},
     "output_type": "execute_result"
    }
   ],
   "source": [
    "s.capitalize()"
   ]
  },
  {
   "cell_type": "code",
   "execution_count": 11,
   "id": "36f28183",
   "metadata": {},
   "outputs": [],
   "source": [
    "s2=' sathiya priya '"
   ]
  },
  {
   "cell_type": "code",
   "execution_count": 12,
   "id": "02b56eea",
   "metadata": {},
   "outputs": [
    {
     "data": {
      "text/plain": [
       "'sathiya priya'"
      ]
     },
     "execution_count": 12,
     "metadata": {},
     "output_type": "execute_result"
    }
   ],
   "source": [
    "s2.strip()"
   ]
  },
  {
   "cell_type": "code",
   "execution_count": 13,
   "id": "203d0a63",
   "metadata": {},
   "outputs": [
    {
     "data": {
      "text/plain": [
       "'sathiya priya '"
      ]
     },
     "execution_count": 13,
     "metadata": {},
     "output_type": "execute_result"
    }
   ],
   "source": [
    "s2.lstrip()"
   ]
  },
  {
   "cell_type": "code",
   "execution_count": 15,
   "id": "b82493b0",
   "metadata": {},
   "outputs": [
    {
     "data": {
      "text/plain": [
       "' sathiya priya'"
      ]
     },
     "execution_count": 15,
     "metadata": {},
     "output_type": "execute_result"
    }
   ],
   "source": [
    "s2.rstrip()"
   ]
  },
  {
   "cell_type": "code",
   "execution_count": 18,
   "id": "d0a6e602",
   "metadata": {},
   "outputs": [
    {
     "data": {
      "text/plain": [
       "' szthiyz priyz '"
      ]
     },
     "execution_count": 18,
     "metadata": {},
     "output_type": "execute_result"
    }
   ],
   "source": [
    "s2.replace('a','z')"
   ]
  },
  {
   "cell_type": "code",
   "execution_count": 25,
   "id": "68aefcf8",
   "metadata": {},
   "outputs": [
    {
     "data": {
      "text/plain": [
       "' sathiya priya '"
      ]
     },
     "execution_count": 25,
     "metadata": {},
     "output_type": "execute_result"
    }
   ],
   "source": [
    "s2.expandtabs(tabsize=20)"
   ]
  },
  {
   "cell_type": "code",
   "execution_count": 36,
   "id": "7809e76f",
   "metadata": {},
   "outputs": [
    {
     "data": {
      "text/plain": [
       "'## sathiya priya ###'"
      ]
     },
     "execution_count": 36,
     "metadata": {},
     "output_type": "execute_result"
    }
   ],
   "source": [
    "s2.center(20,'#')"
   ]
  },
  {
   "cell_type": "code",
   "execution_count": null,
   "id": "5d0a8f06",
   "metadata": {},
   "outputs": [],
   "source": [
    "10.string center function occupies defined space(i.e..20) and display the thing in center"
   ]
  },
  {
   "cell_type": "code",
   "execution_count": null,
   "id": "e740c888",
   "metadata": {},
   "outputs": [],
   "source": [
    "compiler converts code to 0's and 1's\n",
    "interpreter viceversa"
   ]
  },
  {
   "cell_type": "code",
   "execution_count": null,
   "id": "a5d80f41",
   "metadata": {},
   "outputs": [],
   "source": [
    "13.python is used to develope user friendly applications and games etc"
   ]
  },
  {
   "cell_type": "code",
   "execution_count": null,
   "id": "b4196f47",
   "metadata": {},
   "outputs": [],
   "source": []
  }
 ],
 "metadata": {
  "kernelspec": {
   "display_name": "Python 3 (ipykernel)",
   "language": "python",
   "name": "python3"
  },
  "language_info": {
   "codemirror_mode": {
    "name": "ipython",
    "version": 3
   },
   "file_extension": ".py",
   "mimetype": "text/x-python",
   "name": "python",
   "nbconvert_exporter": "python",
   "pygments_lexer": "ipython3",
   "version": "3.9.12"
  }
 },
 "nbformat": 4,
 "nbformat_minor": 5
}
